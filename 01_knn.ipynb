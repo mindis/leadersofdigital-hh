{
 "cells": [
  {
   "cell_type": "code",
   "execution_count": 1,
   "metadata": {
    "colab": {},
    "colab_type": "code",
    "id": "xnhGbwevBqRo"
   },
   "outputs": [],
   "source": [
    "from IPython.display import clear_output"
   ]
  },
  {
   "cell_type": "code",
   "execution_count": 2,
   "metadata": {
    "colab": {},
    "colab_type": "code",
    "id": "WZQjUfMxNnxh"
   },
   "outputs": [],
   "source": [
    "!pip install pymorphy2 sparse_dot_topn\n",
    "!python -m nltk.downloader stopwords\n",
    "!python -m nltk.downloader wordnet\n",
    "\n",
    "clear_output()"
   ]
  },
  {
   "cell_type": "code",
   "execution_count": 3,
   "metadata": {
    "colab": {},
    "colab_type": "code",
    "id": "bVC0QR09LGOI"
   },
   "outputs": [],
   "source": [
    "import os\n",
    "import re\n",
    "\n",
    "import json\n",
    "import gzip\n",
    "import codecs\n",
    "\n",
    "from itertools import islice, chain, filterfalse\n",
    "from collections import Counter, defaultdict\n",
    "from operator import itemgetter\n",
    "\n",
    "import numpy as np\n",
    "import scipy.sparse as sp\n",
    "import pandas as pd\n",
    "\n",
    "import lxml.html as lhtml\n",
    "\n",
    "# from tqdm.notebook import tqdm\n",
    "from tqdm import tqdm"
   ]
  },
  {
   "cell_type": "code",
   "execution_count": 4,
   "metadata": {
    "colab": {},
    "colab_type": "code",
    "id": "fkkEzd9lLG20"
   },
   "outputs": [],
   "source": [
    "WORKDIR = '.'"
   ]
  },
  {
   "cell_type": "code",
   "execution_count": 5,
   "metadata": {
    "colab": {},
    "colab_type": "code",
    "id": "_jTbp3f3B1k5"
   },
   "outputs": [],
   "source": [
    "!mkdir -p \"{WORKDIR}/data\" \"{WORKDIR}/models\""
   ]
  },
  {
   "cell_type": "code",
   "execution_count": 6,
   "metadata": {
    "colab": {},
    "colab_type": "code",
    "id": "Li3j0B5qB4d6"
   },
   "outputs": [],
   "source": [
    "def save_array(a, filename: str, sparse: bool = False, **params):\n",
    "    if sparse and not sp.issparse(a):\n",
    "        a = sp.csr_matrix(a)\n",
    "    elif not sparse and sp.issparse(a):\n",
    "        a = np.asarray(a.todense())\n",
    "\n",
    "    with open(filename, 'wb') as f_data:\n",
    "        save = sp.save_npz if sparse else np.save\n",
    "        return save(f_data, a, **params)\n",
    "\n",
    "\n",
    "def load_array(filename: str, sparse: bool = False, **params):\n",
    "    with open(filename, 'rb') as f_data:\n",
    "        load = sp.load_npz if sparse else np.load\n",
    "        return load(f_data, **params)"
   ]
  },
  {
   "cell_type": "code",
   "execution_count": 7,
   "metadata": {
    "colab": {
     "base_uri": "https://localhost:8080/",
     "height": 306
    },
    "colab_type": "code",
    "executionInfo": {
     "elapsed": 1133698,
     "status": "ok",
     "timestamp": 1594373438212,
     "user": {
      "displayName": "Александр Самойлов",
      "photoUrl": "",
      "userId": "10717300145457830788"
     },
     "user_tz": -180
    },
    "id": "j_74JYgdUYYw",
    "outputId": "940f086c-f6f0-4f82-c021-8cbf6299417e"
   },
   "outputs": [
    {
     "name": "stderr",
     "output_type": "stream",
     "text": [
      "/home/poisk/.conda/envs/ml-py37/lib/python3.7/site-packages/numpy/lib/arraysetops.py:569: FutureWarning: elementwise comparison failed; returning scalar instead, but in the future will perform elementwise comparison\n",
      "  mask |= (ar1 == a)\n"
     ]
    },
    {
     "data": {
      "text/html": [
       "<div>\n",
       "<style scoped>\n",
       "    .dataframe tbody tr th:only-of-type {\n",
       "        vertical-align: middle;\n",
       "    }\n",
       "\n",
       "    .dataframe tbody tr th {\n",
       "        vertical-align: top;\n",
       "    }\n",
       "\n",
       "    .dataframe thead th {\n",
       "        text-align: right;\n",
       "    }\n",
       "</style>\n",
       "<table border=\"1\" class=\"dataframe\">\n",
       "  <thead>\n",
       "    <tr style=\"text-align: right;\">\n",
       "      <th></th>\n",
       "      <th>specializations</th>\n",
       "      <th>is_train</th>\n",
       "      <th>area_id</th>\n",
       "      <th>compensation_from</th>\n",
       "      <th>compensation_to</th>\n",
       "      <th>creation_date</th>\n",
       "      <th>currency</th>\n",
       "      <th>employer</th>\n",
       "      <th>employment</th>\n",
       "      <th>work_experience</th>\n",
       "      <th>work_schedule</th>\n",
       "    </tr>\n",
       "    <tr>\n",
       "      <th>vacancy_id</th>\n",
       "      <th></th>\n",
       "      <th></th>\n",
       "      <th></th>\n",
       "      <th></th>\n",
       "      <th></th>\n",
       "      <th></th>\n",
       "      <th></th>\n",
       "      <th></th>\n",
       "      <th></th>\n",
       "      <th></th>\n",
       "      <th></th>\n",
       "    </tr>\n",
       "  </thead>\n",
       "  <tbody>\n",
       "    <tr>\n",
       "      <th>1</th>\n",
       "      <td>[242, 256, 302, 324, 358, 440]</td>\n",
       "      <td>True</td>\n",
       "      <td>26</td>\n",
       "      <td>22000.0</td>\n",
       "      <td>24000.0</td>\n",
       "      <td>2019-01-24</td>\n",
       "      <td>RUR</td>\n",
       "      <td>0ce23382345c</td>\n",
       "      <td>full</td>\n",
       "      <td>between1And3</td>\n",
       "      <td>fullDay</td>\n",
       "    </tr>\n",
       "    <tr>\n",
       "      <th>2</th>\n",
       "      <td>NaN</td>\n",
       "      <td>False</td>\n",
       "      <td>160</td>\n",
       "      <td>NaN</td>\n",
       "      <td>NaN</td>\n",
       "      <td>2019-07-26</td>\n",
       "      <td>NaN</td>\n",
       "      <td>b9aa259f8724</td>\n",
       "      <td>full</td>\n",
       "      <td>between1And3</td>\n",
       "      <td>fullDay</td>\n",
       "    </tr>\n",
       "    <tr>\n",
       "      <th>3</th>\n",
       "      <td>[211]</td>\n",
       "      <td>True</td>\n",
       "      <td>1002</td>\n",
       "      <td>NaN</td>\n",
       "      <td>NaN</td>\n",
       "      <td>2019-04-15</td>\n",
       "      <td>NaN</td>\n",
       "      <td>11ecc72a7a76</td>\n",
       "      <td>project</td>\n",
       "      <td>between1And3</td>\n",
       "      <td>fullDay</td>\n",
       "    </tr>\n",
       "    <tr>\n",
       "      <th>4</th>\n",
       "      <td>[389, 412, 437]</td>\n",
       "      <td>True</td>\n",
       "      <td>22</td>\n",
       "      <td>NaN</td>\n",
       "      <td>36000.0</td>\n",
       "      <td>2019-07-12</td>\n",
       "      <td>RUR</td>\n",
       "      <td>e1e424ceb5e4</td>\n",
       "      <td>full</td>\n",
       "      <td>noExperience</td>\n",
       "      <td>fullDay</td>\n",
       "    </tr>\n",
       "    <tr>\n",
       "      <th>5</th>\n",
       "      <td>NaN</td>\n",
       "      <td>False</td>\n",
       "      <td>1002</td>\n",
       "      <td>600.0</td>\n",
       "      <td>NaN</td>\n",
       "      <td>2019-01-17</td>\n",
       "      <td>BYR</td>\n",
       "      <td>943fd4a3770a</td>\n",
       "      <td>full</td>\n",
       "      <td>between1And3</td>\n",
       "      <td>fullDay</td>\n",
       "    </tr>\n",
       "  </tbody>\n",
       "</table>\n",
       "</div>"
      ],
      "text/plain": [
       "                           specializations  is_train  area_id  \\\n",
       "vacancy_id                                                      \n",
       "1           [242, 256, 302, 324, 358, 440]      True       26   \n",
       "2                                      NaN     False      160   \n",
       "3                                    [211]      True     1002   \n",
       "4                          [389, 412, 437]      True       22   \n",
       "5                                      NaN     False     1002   \n",
       "\n",
       "            compensation_from  compensation_to creation_date currency  \\\n",
       "vacancy_id                                                              \n",
       "1                     22000.0          24000.0    2019-01-24      RUR   \n",
       "2                         NaN              NaN    2019-07-26      NaN   \n",
       "3                         NaN              NaN    2019-04-15      NaN   \n",
       "4                         NaN          36000.0    2019-07-12      RUR   \n",
       "5                       600.0              NaN    2019-01-17      BYR   \n",
       "\n",
       "                employer employment work_experience work_schedule  \n",
       "vacancy_id                                                         \n",
       "1           0ce23382345c       full    between1And3       fullDay  \n",
       "2           b9aa259f8724       full    between1And3       fullDay  \n",
       "3           11ecc72a7a76    project    between1And3       fullDay  \n",
       "4           e1e424ceb5e4       full    noExperience       fullDay  \n",
       "5           943fd4a3770a       full    between1And3       fullDay  "
      ]
     },
     "execution_count": 7,
     "metadata": {},
     "output_type": "execute_result"
    }
   ],
   "source": [
    "def parse_specializations(s):\n",
    "    res = s[1:-1].split(',')\n",
    "    res = map(int, res)\n",
    "    res = list(res)\n",
    "    # res = np.asarray(res, dtype=int)\n",
    "    return res\n",
    "\n",
    "vacancies_file = os.path.join(WORKDIR, 'data/vacancies_info.csv.gz')\n",
    "\n",
    "if not os.path.isfile(vacancies_file):\n",
    "    # Загружаем специализации для обучения\n",
    "    df_train_ids = pd.read_csv(\n",
    "        os.path.join(WORKDIR, 'train_labels.csv.gz'),\n",
    "        index_col='vacancy_id',\n",
    "        compression='gzip',\n",
    "    )\n",
    "\n",
    "    df_train_ids['specializations'] = df_train_ids['specializations'].map(parse_specializations)\n",
    "    df_train_ids['is_train'] = True\n",
    "\n",
    "    # Загружаем специализации для теста\n",
    "    df_test_ids = pd.read_csv(\n",
    "        os.path.join(WORKDIR, 'test_vacancy_ids.csv.gz'),\n",
    "        index_col='vacancy_id',\n",
    "        compression='gzip',\n",
    "    )\n",
    "\n",
    "    # Объединяем в один датафрейм\n",
    "    df_all_ids = pd.concat([df_train_ids, df_test_ids], axis=0)\n",
    "    df_all_ids['is_train'].fillna(False, inplace=True)\n",
    "    df_all_ids.sort_index(inplace=True)\n",
    "\n",
    "    # Загружаем информацию о каждой из вакансий\n",
    "    df_vacancies_info = pd.read_csv(\n",
    "        os.path.join(WORKDIR, 'vacancies_info.csv.gz'),\n",
    "        index_col='vacancy_id',\n",
    "        compression='gzip',\n",
    "    )\n",
    "\n",
    "    # Объединяем в один датафрейм\n",
    "    df_all_ids = pd.merge(df_all_ids, df_vacancies_info, left_index=True, right_index=True, how='left')\n",
    "\n",
    "    df_all_ids.to_csv(vacancies_file, index=True, compression='gzip')\n",
    "else:\n",
    "    df_all_ids = pd.read_csv(\n",
    "        vacancies_file,\n",
    "        index_col='vacancy_id',\n",
    "        compression='gzip',\n",
    "    )\n",
    "    df_all_ids.loc[df_all_ids['is_train'], 'specializations'] = \\\n",
    "        df_all_ids.loc[df_all_ids['is_train'], 'specializations'].map(parse_specializations)\n",
    "\n",
    "df_all_ids.head()"
   ]
  },
  {
   "cell_type": "code",
   "execution_count": 8,
   "metadata": {
    "colab": {
     "base_uri": "https://localhost:8080/",
     "height": 272
    },
    "colab_type": "code",
    "executionInfo": {
     "elapsed": 1135012,
     "status": "ok",
     "timestamp": 1594373439536,
     "user": {
      "displayName": "Александр Самойлов",
      "photoUrl": "",
      "userId": "10717300145457830788"
     },
     "user_tz": -180
    },
    "id": "xVYw4hGGCOMo",
    "outputId": "64f93271-d79b-47f7-c7c7-7ee94a8f60c5"
   },
   "outputs": [
    {
     "data": {
      "text/html": [
       "<div>\n",
       "<style scoped>\n",
       "    .dataframe tbody tr th:only-of-type {\n",
       "        vertical-align: middle;\n",
       "    }\n",
       "\n",
       "    .dataframe tbody tr th {\n",
       "        vertical-align: top;\n",
       "    }\n",
       "\n",
       "    .dataframe thead th {\n",
       "        text-align: right;\n",
       "    }\n",
       "</style>\n",
       "<table border=\"1\" class=\"dataframe\">\n",
       "  <thead>\n",
       "    <tr style=\"text-align: right;\">\n",
       "      <th></th>\n",
       "      <th>specializations</th>\n",
       "      <th>is_train</th>\n",
       "      <th>area_id</th>\n",
       "      <th>compensation_from</th>\n",
       "      <th>compensation_to</th>\n",
       "      <th>creation_date</th>\n",
       "      <th>currency</th>\n",
       "      <th>employer</th>\n",
       "      <th>employment</th>\n",
       "      <th>work_experience</th>\n",
       "      <th>work_schedule</th>\n",
       "      <th>joined_work</th>\n",
       "    </tr>\n",
       "    <tr>\n",
       "      <th>vacancy_id</th>\n",
       "      <th></th>\n",
       "      <th></th>\n",
       "      <th></th>\n",
       "      <th></th>\n",
       "      <th></th>\n",
       "      <th></th>\n",
       "      <th></th>\n",
       "      <th></th>\n",
       "      <th></th>\n",
       "      <th></th>\n",
       "      <th></th>\n",
       "      <th></th>\n",
       "    </tr>\n",
       "  </thead>\n",
       "  <tbody>\n",
       "    <tr>\n",
       "      <th>1</th>\n",
       "      <td>[242, 256, 302, 324, 358, 440]</td>\n",
       "      <td>True</td>\n",
       "      <td>26</td>\n",
       "      <td>22000.0</td>\n",
       "      <td>24000.0</td>\n",
       "      <td>2019-01-24</td>\n",
       "      <td>RUR</td>\n",
       "      <td>0ce23382345c</td>\n",
       "      <td>full</td>\n",
       "      <td>between1And3</td>\n",
       "      <td>fullDay</td>\n",
       "      <td>full_between1And3_fullDay</td>\n",
       "    </tr>\n",
       "    <tr>\n",
       "      <th>2</th>\n",
       "      <td>NaN</td>\n",
       "      <td>False</td>\n",
       "      <td>160</td>\n",
       "      <td>NaN</td>\n",
       "      <td>NaN</td>\n",
       "      <td>2019-07-26</td>\n",
       "      <td>NaN</td>\n",
       "      <td>b9aa259f8724</td>\n",
       "      <td>full</td>\n",
       "      <td>between1And3</td>\n",
       "      <td>fullDay</td>\n",
       "      <td>full_between1And3_fullDay</td>\n",
       "    </tr>\n",
       "    <tr>\n",
       "      <th>3</th>\n",
       "      <td>[211]</td>\n",
       "      <td>True</td>\n",
       "      <td>1002</td>\n",
       "      <td>NaN</td>\n",
       "      <td>NaN</td>\n",
       "      <td>2019-04-15</td>\n",
       "      <td>NaN</td>\n",
       "      <td>11ecc72a7a76</td>\n",
       "      <td>project</td>\n",
       "      <td>between1And3</td>\n",
       "      <td>fullDay</td>\n",
       "      <td>project_between1And3_fullDay</td>\n",
       "    </tr>\n",
       "    <tr>\n",
       "      <th>4</th>\n",
       "      <td>[389, 412, 437]</td>\n",
       "      <td>True</td>\n",
       "      <td>22</td>\n",
       "      <td>NaN</td>\n",
       "      <td>36000.0</td>\n",
       "      <td>2019-07-12</td>\n",
       "      <td>RUR</td>\n",
       "      <td>e1e424ceb5e4</td>\n",
       "      <td>full</td>\n",
       "      <td>noExperience</td>\n",
       "      <td>fullDay</td>\n",
       "      <td>full_noExperience_fullDay</td>\n",
       "    </tr>\n",
       "    <tr>\n",
       "      <th>5</th>\n",
       "      <td>NaN</td>\n",
       "      <td>False</td>\n",
       "      <td>1002</td>\n",
       "      <td>600.0</td>\n",
       "      <td>NaN</td>\n",
       "      <td>2019-01-17</td>\n",
       "      <td>BYR</td>\n",
       "      <td>943fd4a3770a</td>\n",
       "      <td>full</td>\n",
       "      <td>between1And3</td>\n",
       "      <td>fullDay</td>\n",
       "      <td>full_between1And3_fullDay</td>\n",
       "    </tr>\n",
       "  </tbody>\n",
       "</table>\n",
       "</div>"
      ],
      "text/plain": [
       "                           specializations  is_train  area_id  \\\n",
       "vacancy_id                                                      \n",
       "1           [242, 256, 302, 324, 358, 440]      True       26   \n",
       "2                                      NaN     False      160   \n",
       "3                                    [211]      True     1002   \n",
       "4                          [389, 412, 437]      True       22   \n",
       "5                                      NaN     False     1002   \n",
       "\n",
       "            compensation_from  compensation_to creation_date currency  \\\n",
       "vacancy_id                                                              \n",
       "1                     22000.0          24000.0    2019-01-24      RUR   \n",
       "2                         NaN              NaN    2019-07-26      NaN   \n",
       "3                         NaN              NaN    2019-04-15      NaN   \n",
       "4                         NaN          36000.0    2019-07-12      RUR   \n",
       "5                       600.0              NaN    2019-01-17      BYR   \n",
       "\n",
       "                employer employment work_experience work_schedule  \\\n",
       "vacancy_id                                                          \n",
       "1           0ce23382345c       full    between1And3       fullDay   \n",
       "2           b9aa259f8724       full    between1And3       fullDay   \n",
       "3           11ecc72a7a76    project    between1And3       fullDay   \n",
       "4           e1e424ceb5e4       full    noExperience       fullDay   \n",
       "5           943fd4a3770a       full    between1And3       fullDay   \n",
       "\n",
       "                             joined_work  \n",
       "vacancy_id                                \n",
       "1              full_between1And3_fullDay  \n",
       "2              full_between1And3_fullDay  \n",
       "3           project_between1And3_fullDay  \n",
       "4              full_noExperience_fullDay  \n",
       "5              full_between1And3_fullDay  "
      ]
     },
     "execution_count": 8,
     "metadata": {},
     "output_type": "execute_result"
    }
   ],
   "source": [
    "df_all_ids['joined_work'] = (\n",
    "    df_all_ids['employment'] + '_' +\n",
    "    df_all_ids['work_experience'] + '_' +\n",
    "    df_all_ids['work_schedule']\n",
    ")\n",
    "\n",
    "df_all_ids.head()"
   ]
  },
  {
   "cell_type": "code",
   "execution_count": 9,
   "metadata": {
    "colab": {},
    "colab_type": "code",
    "id": "kmK6nPV0nSDz"
   },
   "outputs": [],
   "source": [
    "def make_onehot_csr_matrix(s: pd.Series):\n",
    "    mapping = defaultdict(lambda: len(mapping))\n",
    "\n",
    "    data = np.ones(shape=(s.shape[0], ))\n",
    "    indices = [mapping[k] for k in s]\n",
    "    indptr = np.arange(0, len(data) + 1)\n",
    "\n",
    "    X = sp.csr_matrix((data, indices, indptr), shape=(len(indptr) - 1, len(mapping)))\n",
    "    mapping.default_factory = None\n",
    "    mapping_inv = sorted(mapping, key=lambda e: mapping[e])\n",
    "\n",
    "    return mapping, mapping_inv, X"
   ]
  },
  {
   "cell_type": "code",
   "execution_count": 10,
   "metadata": {
    "colab": {
     "base_uri": "https://localhost:8080/",
     "height": 34
    },
    "colab_type": "code",
    "executionInfo": {
     "elapsed": 1137088,
     "status": "ok",
     "timestamp": 1594373441625,
     "user": {
      "displayName": "Александр Самойлов",
      "photoUrl": "",
      "userId": "10717300145457830788"
     },
     "user_tz": -180
    },
    "id": "-unk7xstCUVp",
    "outputId": "ee149bb9-9c57-4a85-c64b-9fdaa8cf3ada"
   },
   "outputs": [
    {
     "data": {
      "text/plain": [
       "(2912650, 345193)"
      ]
     },
     "execution_count": 10,
     "metadata": {},
     "output_type": "execute_result"
    }
   ],
   "source": [
    "mapping_employer, mapping_employer_inv, features_employer = \\\n",
    "    make_onehot_csr_matrix(df_all_ids['employer'])\n",
    "\n",
    "features_employer.shape"
   ]
  },
  {
   "cell_type": "code",
   "execution_count": 11,
   "metadata": {
    "colab": {},
    "colab_type": "code",
    "id": "mNFMecu3m6VU"
   },
   "outputs": [],
   "source": [
    "def make_onehot_multiple_csr_matrix(s: pd.Series):\n",
    "    mapping = defaultdict(lambda: len(mapping))\n",
    "\n",
    "    data, indices, indptr = [], [], [0, ]\n",
    "\n",
    "    for row in tqdm(s):\n",
    "        row = list(map(lambda e: mapping[e], row))\n",
    "\n",
    "        data.extend([1] * len(row))\n",
    "        indices.extend(row)\n",
    "        indptr.append(len(data))\n",
    "\n",
    "    X = sp.csr_matrix((data, indices, indptr), shape=(len(indptr) - 1, len(mapping)))\n",
    "    mapping.default_factory = None\n",
    "    mapping_inv = sorted(mapping, key=lambda e: mapping[e])\n",
    "\n",
    "    return mapping, mapping_inv, X"
   ]
  },
  {
   "cell_type": "code",
   "execution_count": 12,
   "metadata": {
    "colab": {
     "base_uri": "https://localhost:8080/",
     "height": 51
    },
    "colab_type": "code",
    "executionInfo": {
     "elapsed": 1140862,
     "status": "ok",
     "timestamp": 1594373445413,
     "user": {
      "displayName": "Александр Самойлов",
      "photoUrl": "",
      "userId": "10717300145457830788"
     },
     "user_tz": -180
    },
    "id": "R3Lr1eZYCZKk",
    "outputId": "f8dafdab-adab-4a8c-928a-a95460c00137"
   },
   "outputs": [
    {
     "name": "stderr",
     "output_type": "stream",
     "text": [
      "100%|██████████| 1456325/1456325 [00:02<00:00, 620422.68it/s]\n"
     ]
    },
    {
     "data": {
      "text/plain": [
       "(1456325, 620)"
      ]
     },
     "execution_count": 12,
     "metadata": {},
     "output_type": "execute_result"
    }
   ],
   "source": [
    "mapping_spec, mapping_spec_inv, y_spec = \\\n",
    "    make_onehot_multiple_csr_matrix(df_all_ids.loc[df_all_ids['is_train'], 'specializations'])\n",
    "\n",
    "y_spec.shape"
   ]
  },
  {
   "cell_type": "code",
   "execution_count": 13,
   "metadata": {
    "colab": {
     "base_uri": "https://localhost:8080/",
     "height": 187
    },
    "colab_type": "code",
    "executionInfo": {
     "elapsed": 1140853,
     "status": "ok",
     "timestamp": 1594373445414,
     "user": {
      "displayName": "Александр Самойлов",
      "photoUrl": "",
      "userId": "10717300145457830788"
     },
     "user_tz": -180
    },
    "id": "zYm7HjJkLU9L",
    "outputId": "586b60c5-a7ad-4fb8-9f94-9a6418ab9a5d"
   },
   "outputs": [
    {
     "data": {
      "text/plain": [
       "['vacancies-01.json.gz',\n",
       " 'vacancies-02.json.gz',\n",
       " 'vacancies-03.json.gz',\n",
       " 'vacancies-04.json.gz',\n",
       " 'vacancies-05.json.gz',\n",
       " 'vacancies-06.json.gz',\n",
       " 'vacancies-07.json.gz',\n",
       " 'vacancies-08.json.gz',\n",
       " 'vacancies-09.json.gz',\n",
       " 'vacancies-10.json.gz']"
      ]
     },
     "execution_count": 13,
     "metadata": {},
     "output_type": "execute_result"
    }
   ],
   "source": [
    "vacancies_parts = (f for f in os.listdir(WORKDIR) if f.startswith('vacancies-'))\n",
    "vacancies_parts = sorted(vacancies_parts)\n",
    "vacancies_parts"
   ]
  },
  {
   "cell_type": "code",
   "execution_count": 14,
   "metadata": {
    "colab": {},
    "colab_type": "code",
    "id": "Cmv0omfcLbLy"
   },
   "outputs": [],
   "source": [
    "def read_vacancies_part(filename):\n",
    "    with gzip.open(filename, mode='r') as f_gz:\n",
    "        records = json.load(f_gz)\n",
    "        records = {int(k): v for k, v in records.items()}\n",
    "    return records"
   ]
  },
  {
   "cell_type": "code",
   "execution_count": 15,
   "metadata": {
    "colab": {},
    "colab_type": "code",
    "id": "XJgRAIyLNh-6"
   },
   "outputs": [],
   "source": [
    "from functools import lru_cache\n",
    "\n",
    "from nltk.corpus import stopwords\n",
    "from pymorphy2 import MorphAnalyzer\n",
    "\n",
    "\n",
    "ru_morph = MorphAnalyzer()\n",
    "\n",
    "@lru_cache(maxsize=15000)\n",
    "def morph_process(token):\n",
    "    return ru_morph.parse(token)[0].normal_form\n",
    "\n",
    "\n",
    "stop_words = map(morph_process, stopwords.words('russian'))\n",
    "stop_words = stopwords.words('russian') + list(stop_words)"
   ]
  },
  {
   "cell_type": "code",
   "execution_count": 16,
   "metadata": {
    "colab": {
     "base_uri": "https://localhost:8080/",
     "height": 34
    },
    "colab_type": "code",
    "executionInfo": {
     "elapsed": 1141241,
     "status": "ok",
     "timestamp": 1594373445820,
     "user": {
      "displayName": "Александр Самойлов",
      "photoUrl": "",
      "userId": "10717300145457830788"
     },
     "user_tz": -180
    },
    "id": "kzw4Qr2HOdrt",
    "outputId": "3506884d-0777-428a-bd6f-badf3d7bbc4b"
   },
   "outputs": [
    {
     "name": "stderr",
     "output_type": "stream",
     "text": [
      "0it [00:00, ?it/s]/10 [00:00<?, ?it/s]"
     ]
    }
   ],
   "source": [
    "vacancies_it = map(lambda p: os.path.join(WORKDIR, p), tqdm(vacancies_parts))\n",
    "vacancies_it = map(read_vacancies_part, vacancies_it)\n",
    "vacancies_it = ((k, v) for p in vacancies_it for k, v in p.items())\n",
    "\n",
    "index = []\n",
    "\n",
    "def content_names_reader(index):\n",
    "    for vacancy_id, vacancy_info in vacancies_it:\n",
    "        name = re.sub('\\(.*?\\)', '', vacancy_info['name'].lower())\n",
    "        index.append(vacancy_id)\n",
    "        yield name\n",
    "\n",
    "content_names = content_names_reader(index)\n",
    "content_names = tqdm(content_names, position=0)"
   ]
  },
  {
   "cell_type": "code",
   "execution_count": 17,
   "metadata": {
    "colab": {},
    "colab_type": "code",
    "id": "ltnZRdzoNlve"
   },
   "outputs": [],
   "source": [
    "from sklearn.feature_extraction.text import TfidfVectorizer\n",
    "\n",
    "def create_tfidf_vectorizer(**params):\n",
    "    vec = TfidfVectorizer(\n",
    "        stop_words=stop_words,\n",
    "        preprocessor=morph_process,\n",
    "        ngram_range=(1, 2),\n",
    "        min_df=5,\n",
    "        **params\n",
    "    )\n",
    "    return vec"
   ]
  },
  {
   "cell_type": "code",
   "execution_count": 18,
   "metadata": {
    "colab": {
     "base_uri": "https://localhost:8080/",
     "height": 34
    },
    "colab_type": "code",
    "executionInfo": {
     "elapsed": 10028,
     "status": "ok",
     "timestamp": 1594373502631,
     "user": {
      "displayName": "Александр Самойлов",
      "photoUrl": "",
      "userId": "10717300145457830788"
     },
     "user_tz": -180
    },
    "id": "sPvZCxhhOj8a",
    "outputId": "b200713c-9277-47b9-d417-9963eeb72200"
   },
   "outputs": [
    {
     "data": {
      "text/plain": [
       "(2912650, 139435)"
      ]
     },
     "execution_count": 18,
     "metadata": {},
     "output_type": "execute_result"
    }
   ],
   "source": [
    "content_names_array_file = os.path.join(WORKDIR, 'data/content_names_2.npz')\n",
    "content_names_terms_idfs = os.path.join(WORKDIR, 'data/content_names_2.idf')\n",
    "content_names_vacancies_mapping = os.path.join(WORKDIR, 'data/content_names_2.mapping')\n",
    "\n",
    "if not os.path.isfile(content_names_array_file):\n",
    "    vec = create_tfidf_vectorizer()\n",
    "\n",
    "    # Считаем tfidf-вектора и сохраняем их\n",
    "    features_content_names = vec.fit_transform(content_names)\n",
    "    save_array(features_content_names, content_names_array_file, sparse=True)\n",
    "\n",
    "    # Сохраняем словарик с idf\n",
    "    vocabulary_inv = sorted(vec.vocabulary_, key=lambda e: vec.vocabulary_[e])\n",
    "    with open(content_names_terms_idfs, mode='w', encoding='utf8') as f_data:\n",
    "        for word, idf in zip(vocabulary_inv, vec.idf_):\n",
    "            print(word, \"%.16f\" % idf, sep='\\t', file=f_data)\n",
    "\n",
    "    # Сохраняем порядок вакансий в матрице\n",
    "    with open(content_names_vacancies_mapping, mode='w') as f_data:\n",
    "        print(*index, sep='\\n', file=f_data)\n",
    "else:\n",
    "    # Грузим tfidf-вектора\n",
    "    features_content_names = load_array(content_names_array_file, sparse=True)\n",
    "\n",
    "    # Грузим TfIdfVectorizer\n",
    "    with open(content_names_terms_idfs, mode='r') as f_data:\n",
    "        f_data = map(lambda s: s.rstrip().split('\\t'), f_data)\n",
    "\n",
    "        vocabulary_inv, vocabulary_idf = [], []\n",
    "        for i, (word, idf) in enumerate(f_data):\n",
    "            vocabulary_inv.append(word)\n",
    "            vocabulary_idf.append(float(idf))\n",
    "\n",
    "    vec = create_tfidf_vectorizer(vocabulary=vocabulary_inv)\n",
    "    vec.idf_ = np.asarray(vocabulary_idf, dtype=float)\n",
    "\n",
    "    # Грузим порядок документов\n",
    "    with open(content_names_vacancies_mapping, mode='r') as f_data:\n",
    "        index = list(map(int, f_data))\n",
    "\n",
    "# Убеждаемся, что все правильно\n",
    "assert (np.asarray(index) == df_all_ids.index.values).all()\n",
    "assert features_content_names.shape == (df_all_ids.shape[0], len(vec.idf_))\n",
    "\n",
    "features_content_names.shape"
   ]
  },
  {
   "cell_type": "code",
   "execution_count": 19,
   "metadata": {
    "colab": {},
    "colab_type": "code",
    "id": "yuNOFQiXvyYd"
   },
   "outputs": [],
   "source": [
    "def get_best_ranks(ranks: np.ndarray, top: int, axis: int = 0, return_ranks: bool = False):\n",
    "    top_slice = (slice(None), ) * axis + (slice(-top, None), )\n",
    "    inv_slice = (slice(None), ) * axis + (slice(None, None, -1), )\n",
    "\n",
    "    if top < ranks.shape[axis]:\n",
    "        indices = np.argpartition(ranks, -top, axis=axis)[top_slice]\n",
    "        ranks_top = np.take_along_axis(ranks, indices, axis=axis)\n",
    "        indices = np.take_along_axis(indices, ranks_top.argsort(axis=axis)[inv_slice], axis=axis)\n",
    "    else:\n",
    "        indices = np.argsort(ranks, axis=axis)[top_slice]\n",
    "        indices = indices[inv_slice]\n",
    "\n",
    "    result = (indices, )\n",
    "\n",
    "    if return_ranks:\n",
    "        ranks = np.take_along_axis(ranks, indices, axis=axis)\n",
    "        result += (ranks, )\n",
    "\n",
    "    return result if len(result) > 1 else result[0]"
   ]
  },
  {
   "cell_type": "code",
   "execution_count": 20,
   "metadata": {
    "colab": {},
    "colab_type": "code",
    "id": "yyWEgCtTv4n-"
   },
   "outputs": [],
   "source": [
    "def f1score(y_true, y_pred):\n",
    "    # y_true = set(y_true)\n",
    "    # y_pred = set(y_pred)\n",
    "    \n",
    "    tp = len(y_true & y_pred)\n",
    "    precision = tp / len(y_pred)\n",
    "    recall = tp / len(y_true)\n",
    "    if precision == 0.0 and recall == 0.0:\n",
    "        score = 0.0\n",
    "    else:\n",
    "        score = 2 * precision * recall / (precision + recall)\n",
    "    return score"
   ]
  },
  {
   "cell_type": "code",
   "execution_count": 21,
   "metadata": {
    "colab": {},
    "colab_type": "code",
    "id": "jvPM6oWJrtrw"
   },
   "outputs": [],
   "source": [
    "def make_employer_mult_matrix(A, B):\n",
    "    data, indices, indptr = [], [], [0, ]\n",
    "\n",
    "    indices_buf = {}\n",
    "\n",
    "    for e in tqdm(A.indices, position=0, desc='make_employer_mult_matrix', leave=False):\n",
    "        if e not in indices_buf:\n",
    "            indices_buf[e] = np.where(B.indices == e)[0]\n",
    "        \n",
    "        data.extend([1] * len(indices_buf[e]))\n",
    "        indices.extend(indices_buf[e])\n",
    "        indptr.append(len(indices))\n",
    "\n",
    "    X = sp.csr_matrix((data, indices, indptr), shape=(A.shape[0], B.shape[0]))\n",
    "    return X"
   ]
  },
  {
   "cell_type": "code",
   "execution_count": 22,
   "metadata": {
    "colab": {},
    "colab_type": "code",
    "id": "gWpAv5Pn_DF3"
   },
   "outputs": [],
   "source": [
    "def get_best_ranks_sparse(ranks: sp.spmatrix, top: int, axis: int = 1, return_ranks: bool = False, verbose: bool = True):\n",
    "    if axis == 1 and not sp.isspmatrix_csr(ranks):\n",
    "        ranks = ranks.tocsr()\n",
    "    elif axis == 0 and not sp.isspmatrix_csc(ranks):\n",
    "        ranks = ranks.tocsc()\n",
    "    \n",
    "    ranks_top, indices = [], []\n",
    "\n",
    "    indptr = zip(ranks.indptr, ranks.indptr[1:])\n",
    "    if verbose:\n",
    "        indptr = tqdm(indptr, position=0, total=ranks.shape[0], desc='get_best_ranks_sparse', leave=False)\n",
    "\n",
    "    for i, j in indptr:\n",
    "        row_indices = ranks.indices[i:j]\n",
    "        row_data = ranks.data[i:j]\n",
    "        row_order = np.argsort(row_data)[:-top-1:-1]\n",
    "\n",
    "        row_indices = row_indices[row_order]\n",
    "        row_ranks_top = row_data[row_order]\n",
    "\n",
    "        if len(row_indices) < top:\n",
    "            num = top - len(row_indices)\n",
    "            row_indices = np.pad(row_indices, (0, num), constant_values=-1, mode='constant')\n",
    "            row_ranks_top = np.pad(row_ranks_top, (0, num), constant_values=0, mode='constant')\n",
    "\n",
    "        ranks_top.append(row_ranks_top)\n",
    "        indices.append(row_indices)\n",
    "\n",
    "    indices = np.asarray(indices)   # same as np.vstack\n",
    "    result = (indices, )\n",
    "\n",
    "    if return_ranks:\n",
    "        ranks = np.asarray(ranks_top)   # same as np.vstack\n",
    "        result += (ranks, )\n",
    "\n",
    "    return result"
   ]
  },
  {
   "cell_type": "code",
   "execution_count": 23,
   "metadata": {
    "colab": {},
    "colab_type": "code",
    "id": "vUZlj_CBdoIm"
   },
   "outputs": [],
   "source": [
    "def get_best_indices_sparse(X):\n",
    "    if not sp.isspmatrix_csr(X):\n",
    "        X = X.tocsr()\n",
    "\n",
    "    indices_all = []\n",
    "\n",
    "    for i, j in zip(X.indptr, X.indptr[1:]):\n",
    "        indices = X.indices[i:j]\n",
    "        data = X.data[i:j]\n",
    "\n",
    "        indices = indices[np.argsort(data)[::-1]]\n",
    "        indices_all.append(indices)\n",
    "        \n",
    "    return indices_all"
   ]
  },
  {
   "cell_type": "code",
   "execution_count": 24,
   "metadata": {},
   "outputs": [],
   "source": [
    "def reorder_indices(indices, index):\n",
    "    indices_new = index[indices]\n",
    "    indices_new[indices < 0] = -1\n",
    "    return indices_new"
   ]
  },
  {
   "cell_type": "code",
   "execution_count": 25,
   "metadata": {},
   "outputs": [
    {
     "name": "stderr",
     "output_type": "stream",
     "text": [
      "100%|██████████| 5/5 [12:26<00:00, 149.38s/it]                                      \n"
     ]
    },
    {
     "data": {
      "text/plain": [
       "((1456325, 15), (1456325, 15))"
      ]
     },
     "execution_count": 25,
     "metadata": {},
     "output_type": "execute_result"
    }
   ],
   "source": [
    "from sklearn.model_selection import KFold\n",
    "\n",
    "from sparse_dot_topn import awesome_cossim_topn\n",
    "\n",
    "\n",
    "mask = df_all_ids['is_train'].values\n",
    "\n",
    "kf = KFold(n_splits=5)\n",
    "\n",
    "indices_valid_all, ranks_valid_all = [], []\n",
    "\n",
    "for index_train, index_valid in tqdm(kf.split(features_content_names[mask]), position=0, total=kf.n_splits):\n",
    "    features_content_names_train = features_content_names[mask][index_train]\n",
    "    features_content_names_valid = features_content_names[mask][index_valid]\n",
    "    \n",
    "    features_employer_train = features_employer[mask][index_train]\n",
    "    features_employer_valid = features_employer[mask][index_valid]\n",
    "    \n",
    "    # Вычисляем похожесть между вакансиями\n",
    "    features_content_names_cossim = awesome_cossim_topn(\n",
    "        features_content_names_valid,\n",
    "        features_content_names_train.T,\n",
    "        ntop=15,\n",
    "        use_threads=True,\n",
    "        n_jobs=32,\n",
    "    )\n",
    "    \n",
    "    # Вычисляем индикаторную матрицу по работодателям\n",
    "    features_employer_same = make_employer_mult_matrix(features_employer_valid, features_employer_train)\n",
    "    \n",
    "    # Поощеряем вакансии, у которых один и тот же работодатель\n",
    "    features_content_names_cossim += 0.01 * (features_content_names_cossim > 0).multiply(features_employer_same)\n",
    "    \n",
    "    # Вытаскиваем индексы и ранки\n",
    "    indices_valid, ranks_valid = \\\n",
    "        get_best_ranks_sparse(features_content_names_cossim, top=15, axis=1, return_ranks=True)\n",
    "    \n",
    "    # Преобразуем индексы в рамках всего обучающего датасета\n",
    "    indices_valid = reorder_indices(indices_valid, index_train)\n",
    "    \n",
    "    indices_valid_all.append(indices_valid)\n",
    "    ranks_valid_all.append(ranks_valid)\n",
    "    \n",
    "indices_valid = np.vstack(indices_valid_all)\n",
    "ranks_valid = np.vstack(ranks_valid_all)\n",
    "\n",
    "indices_valid.shape, ranks_valid.shape"
   ]
  },
  {
   "cell_type": "code",
   "execution_count": 30,
   "metadata": {
    "colab": {},
    "colab_type": "code",
    "id": "_qpYDLpk-Kwy"
   },
   "outputs": [],
   "source": [
    "indices_valid_file = os.path.join(WORKDIR, 'data/neigbours-train-all.indices.npz')\n",
    "ranks_valid_file = os.path.join(WORKDIR, 'data/neigbours-train-all.ranks.npz')\n",
    "# vacancies_valid_file = os.path.join(WORKDIR, 'data/neigbours-valid.vacancies.txt')\n",
    "\n",
    "save_array(indices_valid, indices_valid_file, sparse=False)\n",
    "save_array(ranks_valid, ranks_valid_file, sparse=False)"
   ]
  },
  {
   "cell_type": "code",
   "execution_count": 31,
   "metadata": {
    "colab": {
     "base_uri": "https://localhost:8080/",
     "height": 153
    },
    "colab_type": "code",
    "executionInfo": {
     "elapsed": 1589113,
     "status": "ok",
     "timestamp": 1594375113499,
     "user": {
      "displayName": "Александр Самойлов",
      "photoUrl": "",
      "userId": "10717300145457830788"
     },
     "user_tz": -180
    },
    "id": "aOtLmUe2p0aS",
    "outputId": "3f84677f-90ba-47c6-f096-823f69868f89"
   },
   "outputs": [
    {
     "name": "stderr",
     "output_type": "stream",
     "text": [
      "                                                          \r"
     ]
    },
    {
     "name": "stdout",
     "output_type": "stream",
     "text": [
      "K =  1; score = 0.455142\n",
      "K =  3; score = 0.484794\n",
      "K =  5; score = 0.494470\n",
      "K =  7; score = 0.497134\n",
      "K = 11; score = 0.501144\n",
      "K = 13; score = 0.502032\n",
      "\n"
     ]
    },
    {
     "data": {
      "text/plain": [
       "13"
      ]
     },
     "execution_count": 31,
     "metadata": {},
     "output_type": "execute_result"
    }
   ],
   "source": [
    "K_params = [1, 3, 5, 7, 11, 13]\n",
    "\n",
    "scores = {K: [] for K in K_params}\n",
    "\n",
    "for j in tqdm(range(indices_valid.shape[0]), position=0, leave=False):\n",
    "    y_true = set(y_spec[j].indices)\n",
    "\n",
    "    indices_base = indices_valid[j]\n",
    "    if indices_base[-1] < 0:\n",
    "        indices_base = indices_base[indices_base > 0]\n",
    "\n",
    "    if not len(indices_base):\n",
    "        y_pred = {mapping_spec[256], }   # see baseline\n",
    "        score = f1score(y_true, y_pred)\n",
    "        for K in K_params:\n",
    "            scores[K].append(score)\n",
    "        continue\n",
    "\n",
    "    size = y_spec[indices_base[0]].indices.shape[0]\n",
    "\n",
    "    y_pred = Counter()\n",
    "    for K, n in enumerate(indices_base):\n",
    "        y_pred += Counter(y_spec[n].indices)\n",
    "\n",
    "        if K not in scores:\n",
    "            continue\n",
    "\n",
    "        y_pred_ = set(map(itemgetter(0), y_pred.most_common(size)))\n",
    "        score = f1score(y_true, y_pred_)\n",
    "        scores[K].append(score)\n",
    "\n",
    "for k, v in scores.items():\n",
    "    scores[k] = np.mean(v)\n",
    "\n",
    "for k in K_params:\n",
    "    print('K = {:>2d}; score = {:.6f}'.format(k, scores[k]))\n",
    "print()\n",
    "\n",
    "K_best = sorted(scores, key=lambda k: scores[k], reverse=True)[0]\n",
    "K_best"
   ]
  },
  {
   "cell_type": "code",
   "execution_count": 34,
   "metadata": {
    "colab": {},
    "colab_type": "code",
    "id": "A2IQc2pGQ_Fr"
   },
   "outputs": [],
   "source": [
    "K_best = 13"
   ]
  },
  {
   "cell_type": "code",
   "execution_count": 35,
   "metadata": {
    "colab": {
     "base_uri": "https://localhost:8080/",
     "height": 119
    },
    "colab_type": "code",
    "executionInfo": {
     "elapsed": 5507693,
     "status": "ok",
     "timestamp": 1594379037102,
     "user": {
      "displayName": "Александр Самойлов",
      "photoUrl": "",
      "userId": "10717300145457830788"
     },
     "user_tz": -180
    },
    "id": "Y97Y6lOFT5G5",
    "outputId": "5e73441d-647f-4ec7-aff7-362811588997"
   },
   "outputs": [
    {
     "name": "stderr",
     "output_type": "stream",
     "text": [
      "100%|██████████| 5/5 [16:04<00:00, 192.83s/it]                                      \n"
     ]
    }
   ],
   "source": [
    "from sparse_dot_topn import awesome_cossim_topn\n",
    "\n",
    "step = features_content_names[~mask].shape[0] // 5\n",
    "\n",
    "indices_test, ranks_test = [], []\n",
    "\n",
    "for i in tqdm(range(0, features_content_names[~mask].shape[0], step), position=0):\n",
    "    j = min(i + step, features_content_names[~mask].shape[0])\n",
    "\n",
    "    features_content_names_cossim = awesome_cossim_topn(\n",
    "        features_content_names[~mask][i:j],     # test\n",
    "        features_content_names[mask].T,         # train\n",
    "        ntop=15,\n",
    "        use_threads=True,\n",
    "        n_jobs=32,\n",
    "    )\n",
    "\n",
    "    features_employer_same = make_employer_mult_matrix(features_employer[~mask][i:j], features_employer[mask])\n",
    "    features_content_names_cossim += 0.01 * (features_content_names_cossim > 0).multiply(features_employer_same)\n",
    "\n",
    "    indices, ranks = \\\n",
    "        get_best_ranks_sparse(features_content_names_cossim, top=15, axis=1, return_ranks=True)\n",
    "\n",
    "    indices_test.append(indices)\n",
    "    ranks_test.append(ranks)\n",
    "\n",
    "indices_test = np.vstack(indices_test)\n",
    "ranks_test = np.vstack(ranks_test)"
   ]
  },
  {
   "cell_type": "code",
   "execution_count": 36,
   "metadata": {
    "colab": {},
    "colab_type": "code",
    "id": "wcnLnY-3uSLT"
   },
   "outputs": [],
   "source": [
    "assert (~mask).sum() == indices_test.shape[0] == ranks_test.shape[0]"
   ]
  },
  {
   "cell_type": "code",
   "execution_count": 37,
   "metadata": {
    "colab": {},
    "colab_type": "code",
    "id": "v-Oh9IKrUGCS"
   },
   "outputs": [],
   "source": [
    "indices_test_file = os.path.join(WORKDIR, 'data/neigbours-test.indices.npz')\n",
    "ranks_test_file = os.path.join(WORKDIR, 'data/neigbours-test.ranks.npz')\n",
    "\n",
    "save_array(indices_test, indices_test_file, sparse=False)\n",
    "save_array(ranks_test, ranks_test_file, sparse=False)"
   ]
  },
  {
   "cell_type": "code",
   "execution_count": 38,
   "metadata": {
    "colab": {
     "base_uri": "https://localhost:8080/",
     "height": 235
    },
    "colab_type": "code",
    "executionInfo": {
     "elapsed": 8193817,
     "status": "ok",
     "timestamp": 1594381726324,
     "user": {
      "displayName": "Александр Самойлов",
      "photoUrl": "",
      "userId": "10717300145457830788"
     },
     "user_tz": -180
    },
    "id": "C7aBn6zCXfhq",
    "outputId": "bfe8e43c-57d4-4b87-f77c-d8692d7b05ff"
   },
   "outputs": [
    {
     "name": "stderr",
     "output_type": "stream",
     "text": [
      "                                                           \r"
     ]
    },
    {
     "data": {
      "text/html": [
       "<div>\n",
       "<style scoped>\n",
       "    .dataframe tbody tr th:only-of-type {\n",
       "        vertical-align: middle;\n",
       "    }\n",
       "\n",
       "    .dataframe tbody tr th {\n",
       "        vertical-align: top;\n",
       "    }\n",
       "\n",
       "    .dataframe thead th {\n",
       "        text-align: right;\n",
       "    }\n",
       "</style>\n",
       "<table border=\"1\" class=\"dataframe\">\n",
       "  <thead>\n",
       "    <tr style=\"text-align: right;\">\n",
       "      <th></th>\n",
       "      <th>specializations</th>\n",
       "    </tr>\n",
       "    <tr>\n",
       "      <th>vacancy_id</th>\n",
       "      <th></th>\n",
       "    </tr>\n",
       "  </thead>\n",
       "  <tbody>\n",
       "    <tr>\n",
       "      <th>2</th>\n",
       "      <td>[172, 395, 420, 211, 388, 82]</td>\n",
       "    </tr>\n",
       "    <tr>\n",
       "      <th>5</th>\n",
       "      <td>[541, 494, 204]</td>\n",
       "    </tr>\n",
       "    <tr>\n",
       "      <th>7</th>\n",
       "      <td>[127]</td>\n",
       "    </tr>\n",
       "    <tr>\n",
       "      <th>8</th>\n",
       "      <td>[287]</td>\n",
       "    </tr>\n",
       "    <tr>\n",
       "      <th>10</th>\n",
       "      <td>[429, 205]</td>\n",
       "    </tr>\n",
       "  </tbody>\n",
       "</table>\n",
       "</div>"
      ],
      "text/plain": [
       "                          specializations\n",
       "vacancy_id                               \n",
       "2           [172, 395, 420, 211, 388, 82]\n",
       "5                         [541, 494, 204]\n",
       "7                                   [127]\n",
       "8                                   [287]\n",
       "10                             [429, 205]"
      ]
     },
     "execution_count": 38,
     "metadata": {},
     "output_type": "execute_result"
    }
   ],
   "source": [
    "def convert_specializations(s):\n",
    "    s = map(lambda e: mapping_spec_inv[e], s)\n",
    "    s = list(s)\n",
    "    return s\n",
    "\n",
    "\n",
    "y_pred_all = []\n",
    "\n",
    "for j in tqdm(range(indices_test.shape[0]), position=0, leave=False):\n",
    "    indices_base = indices_test[j]\n",
    "    if indices_base[-1] < 0:\n",
    "        indices_base = indices_base[indices_base > 0]\n",
    "\n",
    "    if len(indices_base) > 0:\n",
    "        size = y_spec[indices_base[0]].indices.shape[0]\n",
    "\n",
    "        y_pred = Counter()\n",
    "        for n in indices_base[:K_best]:\n",
    "            y_pred += Counter(y_spec[n].indices)\n",
    "        y_pred = set(map(itemgetter(0), y_pred.most_common(size)))\n",
    "    else:\n",
    "        y_pred = {mapping_spec[256], }   # see baseline\n",
    "\n",
    "    y_pred = convert_specializations(y_pred)\n",
    "    y_pred_all.append(y_pred)\n",
    "\n",
    "df_submission = df_all_ids.loc[~df_all_ids['is_train'], ['specializations']]\n",
    "df_submission['specializations'] = y_pred_all\n",
    "\n",
    "submission_id = 11\n",
    "submission_file = os.path.join(WORKDIR, 'submission_{:03d}.csv.gz').format(submission_id)\n",
    "\n",
    "df_submission.to_csv(submission_file, index=True, compression='gzip')\n",
    "df_submission.head()"
   ]
  },
  {
   "cell_type": "code",
   "execution_count": 39,
   "metadata": {
    "colab": {
     "base_uri": "https://localhost:8080/",
     "height": 102
    },
    "colab_type": "code",
    "executionInfo": {
     "elapsed": 8192270,
     "status": "ok",
     "timestamp": 1594381728378,
     "user": {
      "displayName": "Александр Самойлов",
      "photoUrl": "",
      "userId": "10717300145457830788"
     },
     "user_tz": -180
    },
    "id": "URuReFnVPP0X",
    "outputId": "2a50f2e5-9870-42b9-ae1d-c703dcb9070c"
   },
   "outputs": [
    {
     "name": "stdout",
     "output_type": "stream",
     "text": [
      "vacancy_id,specializations\r\n",
      "2,\"[172, 395, 420, 211, 388, 82]\"\r\n",
      "5,\"[541, 494, 204]\"\r\n",
      "7,[127]\r\n",
      "8,[287]\r\n",
      "\r\n",
      "gzip: stdout: Broken pipe\r\n"
     ]
    }
   ],
   "source": [
    "!zcat \"{submission_file}\" | head -n5"
   ]
  },
  {
   "cell_type": "code",
   "execution_count": 40,
   "metadata": {
    "colab": {
     "base_uri": "https://localhost:8080/",
     "height": 102
    },
    "colab_type": "code",
    "executionInfo": {
     "elapsed": 8194339,
     "status": "ok",
     "timestamp": 1594381730659,
     "user": {
      "displayName": "Александр Самойлов",
      "photoUrl": "",
      "userId": "10717300145457830788"
     },
     "user_tz": -180
    },
    "id": "LVvBkwq6Pikv",
    "outputId": "7adbc2f2-08df-4534-d340-99dbfa7a5df1"
   },
   "outputs": [
    {
     "name": "stdout",
     "output_type": "stream",
     "text": [
      "vacancy_id,specializations\r\n",
      "2,\"[25, 324, 42]\"\r\n",
      "5,\"[491, 193, 313]\"\r\n",
      "7,[256]\r\n",
      "8,\"[287, 70, 83]\"\r\n",
      "\r\n",
      "gzip: stdout: Broken pipe\r\n"
     ]
    }
   ],
   "source": [
    "!zcat \"{WORKDIR}/sample_submission.csv.gz\" | head -n5"
   ]
  },
  {
   "cell_type": "code",
   "execution_count": null,
   "metadata": {
    "colab": {},
    "colab_type": "code",
    "id": "zSBKY-W9GQr6"
   },
   "outputs": [],
   "source": []
  }
 ],
 "metadata": {
  "colab": {
   "authorship_tag": "ABX9TyMagGEN5Ni85f7josiT5YH7",
   "collapsed_sections": [],
   "name": "Untitled3-knn-2.ipynb",
   "provenance": []
  },
  "kernelspec": {
   "display_name": "Python 3",
   "language": "python",
   "name": "python3"
  },
  "language_info": {
   "codemirror_mode": {
    "name": "ipython",
    "version": 3
   },
   "file_extension": ".py",
   "mimetype": "text/x-python",
   "name": "python",
   "nbconvert_exporter": "python",
   "pygments_lexer": "ipython3",
   "version": "3.7.6"
  }
 },
 "nbformat": 4,
 "nbformat_minor": 1
}
